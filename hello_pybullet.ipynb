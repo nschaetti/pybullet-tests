{
 "cells": [
  {
   "cell_type": "markdown",
   "metadata": {},
   "source": [
    "We import bybullet and pybullet data"
   ]
  },
  {
   "cell_type": "code",
   "execution_count": 22,
   "metadata": {},
   "outputs": [],
   "source": [
    "import pybullet as p\n",
    "import pybullet_data\n",
    "import matplotlib.pyplot as plt"
   ]
  },
  {
   "cell_type": "markdown",
   "metadata": {},
   "source": [
    "Connection to the physics server"
   ]
  },
  {
   "cell_type": "code",
   "execution_count": 2,
   "metadata": {},
   "outputs": [
    {
     "data": {
      "text/plain": [
       "0"
      ]
     },
     "execution_count": 2,
     "metadata": {},
     "output_type": "execute_result"
    }
   ],
   "source": [
    "p.connect(p.DIRECT)"
   ]
  },
  {
   "cell_type": "code",
   "execution_count": 5,
   "metadata": {},
   "outputs": [],
   "source": [
    "p.setAdditionalSearchPath(pybullet_data.getDataPath())"
   ]
  },
  {
   "cell_type": "code",
   "execution_count": 6,
   "metadata": {},
   "outputs": [
    {
     "data": {
      "text/plain": [
       "0"
      ]
     },
     "execution_count": 6,
     "metadata": {},
     "output_type": "execute_result"
    }
   ],
   "source": [
    "p.loadURDF(\"plane.urdf\")"
   ]
  },
  {
   "cell_type": "code",
   "execution_count": 8,
   "metadata": {},
   "outputs": [],
   "source": [
    "r2d2 = p.loadURDF(\"r2d2.urdf\", [0, 0, 0.5])"
   ]
  },
  {
   "cell_type": "code",
   "execution_count": 9,
   "metadata": {},
   "outputs": [
    {
     "data": {
      "text/plain": [
       "2"
      ]
     },
     "execution_count": 9,
     "metadata": {},
     "output_type": "execute_result"
    }
   ],
   "source": [
    "p.getNumBodies()"
   ]
  },
  {
   "cell_type": "code",
   "execution_count": 10,
   "metadata": {},
   "outputs": [
    {
     "name": "stdout",
     "output_type": "stream",
     "text": [
      "Joint 0, name b'base_to_right_leg'\n",
      "Joint 1, name b'right_base_joint'\n",
      "Joint 2, name b'right_front_wheel_joint'\n",
      "Joint 3, name b'right_back_wheel_joint'\n",
      "Joint 4, name b'base_to_left_leg'\n",
      "Joint 5, name b'left_base_joint'\n",
      "Joint 6, name b'left_front_wheel_joint'\n",
      "Joint 7, name b'left_back_wheel_joint'\n",
      "Joint 8, name b'gripper_extension'\n",
      "Joint 9, name b'left_gripper_joint'\n",
      "Joint 10, name b'left_tip_joint'\n",
      "Joint 11, name b'right_gripper_joint'\n",
      "Joint 12, name b'right_tip_joint'\n",
      "Joint 13, name b'head_swivel'\n",
      "Joint 14, name b'tobox'\n"
     ]
    }
   ],
   "source": [
    "for i in range(p.getNumJoints(r2d2)):\n",
    "    joint_info = p.getJointInfo(r2d2, i)\n",
    "    print(\"Joint {}, name {}\".format(joint_info[0], joint_info[1]))\n",
    "# end for"
   ]
  },
  {
   "cell_type": "code",
   "execution_count": 11,
   "metadata": {},
   "outputs": [],
   "source": [
    "p.setGravity(0, 0, -9.8)"
   ]
  },
  {
   "cell_type": "code",
   "execution_count": 12,
   "metadata": {},
   "outputs": [],
   "source": [
    "precision = 5"
   ]
  },
  {
   "cell_type": "code",
   "execution_count": 13,
   "metadata": {},
   "outputs": [
    {
     "name": "stdout",
     "output_type": "stream",
     "text": [
      "pos = 0.00000,0.00000,0.50000   \n",
      "pos = 0.00000,0.00000,0.49983   \n",
      "pos = 0.00000,0.00000,0.49949   \n",
      "pos = 0.00000,0.00000,0.49898   \n",
      "pos = 0.00000,0.00000,0.49830   \n",
      "pos = 0.00000,0.00000,0.49745   \n",
      "pos = 0.00000,0.00000,0.49643   \n",
      "pos = 0.00000,0.00000,0.49524   \n",
      "pos = 0.00000,0.00000,0.49388   \n",
      "pos = 0.00000,0.00000,0.49235   \n"
     ]
    }
   ],
   "source": [
    "for i in range(10):\n",
    "    pos, orn = p.getBasePositionAndOrientation(r2d2)\n",
    "    posmsg='pos = {posx:.{prec}f},{posy:.{prec}f},{posz:.{prec}f}   '.format(posx=pos[0],posy=pos[1],posz=pos[2], prec=precision)\n",
    "    print(posmsg)\n",
    "    p.stepSimulation()\n",
    "# end for"
   ]
  },
  {
   "cell_type": "code",
   "execution_count": 14,
   "metadata": {},
   "outputs": [
    {
     "data": {
      "text/plain": [
       "()"
      ]
     },
     "execution_count": 14,
     "metadata": {},
     "output_type": "execute_result"
    }
   ],
   "source": [
    "p.stepSimulation()"
   ]
  },
  {
   "cell_type": "code",
   "execution_count": 15,
   "metadata": {},
   "outputs": [],
   "source": [
    "cam_target_pos = [0,0,0]\n",
    "camera_up = [0,0,1]\n",
    "camera_pos = [1,1,1]"
   ]
  },
  {
   "cell_type": "code",
   "execution_count": 36,
   "metadata": {},
   "outputs": [],
   "source": [
    "pitch = -10.0\n",
    "yaw = 60\n",
    "roll=0\n",
    "upAxisIndex = 2\n",
    "camDistance = 4\n",
    "pixelWidth = 320\n",
    "pixelHeight = 200\n",
    "nearPlane = 0.01\n",
    "farPlane = 100\n",
    "fov = 60"
   ]
  },
  {
   "cell_type": "code",
   "execution_count": 37,
   "metadata": {},
   "outputs": [],
   "source": [
    "viewMatrix = p.computeViewMatrixFromYawPitchRoll(cam_target_pos, camDistance, yaw, pitch, roll, upAxisIndex)\n",
    "aspect = pixelWidth / pixelHeight\n",
    "projectionMatrix = p.computeProjectionMatrixFOV(fov, aspect, nearPlane, farPlane)"
   ]
  },
  {
   "cell_type": "code",
   "execution_count": 38,
   "metadata": {},
   "outputs": [],
   "source": [
    "img_arr = p.getCameraImage(pixelWidth, pixelHeight, viewMatrix, projectionMatrix, shadow=1, lightDirection=[1,1,1])"
   ]
  },
  {
   "cell_type": "code",
   "execution_count": 39,
   "metadata": {},
   "outputs": [
    {
     "data": {
      "image/png": "[encoded data removed]",
      "text/plain": [
       "<Figure size 432x288 with 1 Axes>"
      ]
     },
     "metadata": {
      "needs_background": "light"
     },
     "output_type": "display_data"
    }
   ],
   "source": [
    "w=img_arr[0] #width of the image, in pixels\n",
    "h=img_arr[1] #height of the image, in pixels\n",
    "rgb=img_arr[2] #color data RGB\n",
    "plt.imshow(rgb,interpolation='none')\n",
    "plt.draw()\n",
    "plt.show()"
   ]
  }
 ],
 "metadata": {
  "kernelspec": {
   "display_name": "Python 3",
   "language": "python",
   "name": "python3"
  },
  "language_info": {
   "codemirror_mode": {
    "name": "ipython",
    "version": 3
   },
   "file_extension": ".py",
   "mimetype": "text/x-python",
   "name": "python",
   "nbconvert_exporter": "python",
   "pygments_lexer": "ipython3",
   "version": "3.7.3"
  }
 },
 "nbformat": 4,
 "nbformat_minor": 2
}
